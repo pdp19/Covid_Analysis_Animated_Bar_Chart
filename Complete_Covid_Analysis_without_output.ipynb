{
 "cells": [
  {
   "cell_type": "code",
   "execution_count": null,
   "metadata": {},
   "outputs": [],
   "source": [
    "# import of the library\n",
    "import pandas as pd\n",
    "import numpy as np\n",
    "import seaborn as sns\n",
    "# import matplotlib as plt\n",
    "import warnings\n",
    "warnings.filterwarnings(\"ignore\")\n",
    "import bar_chart_race as bcr\n",
    "import time\n",
    "import matplotlib.pyplot as plt\n",
    "# sns.set_theme(style=\"darkgrid\")"
   ]
  },
  {
   "cell_type": "code",
   "execution_count": null,
   "metadata": {},
   "outputs": [],
   "source": [
    "# Reading the dataset\n",
    "covid_df = pd.read_csv('owid-covid-data.csv')"
   ]
  },
  {
   "cell_type": "code",
   "execution_count": null,
   "metadata": {},
   "outputs": [],
   "source": [
    "# Checking the data\n",
    "covid_df.head()"
   ]
  },
  {
   "cell_type": "code",
   "execution_count": null,
   "metadata": {},
   "outputs": [],
   "source": [
    "covid_df.shape"
   ]
  },
  {
   "cell_type": "code",
   "execution_count": null,
   "metadata": {},
   "outputs": [],
   "source": [
    "covid_df.columns"
   ]
  },
  {
   "cell_type": "markdown",
   "metadata": {},
   "source": [
    "## Method - 1"
   ]
  },
  {
   "cell_type": "code",
   "execution_count": null,
   "metadata": {},
   "outputs": [],
   "source": [
    "# Creating dummy dataset, just for total cases of all countries\n",
    "dummy_total_cases = covid_df[['date','location', 'total_cases']]\n",
    "dummy_total_cases.head()\n"
   ]
  },
  {
   "cell_type": "code",
   "execution_count": null,
   "metadata": {},
   "outputs": [],
   "source": [
    "# Creating a customised dataset which can be used to create animated bar chart\n",
    "covid_total_cases_df = pd.DataFrame(columns = dummy_total_cases.location )\n",
    "covid_total_cases_df.head()"
   ]
  },
  {
   "cell_type": "code",
   "execution_count": null,
   "metadata": {},
   "outputs": [],
   "source": [
    "# Removing duplicate columns as country\n",
    "covid_total_cases_df = covid_total_cases_df.loc[:,~covid_total_cases_df.columns.duplicated()]"
   ]
  },
  {
   "cell_type": "code",
   "execution_count": null,
   "metadata": {},
   "outputs": [],
   "source": [
    "# Adding Data as a column which can be our index for bar chart\n",
    "covid_total_cases_df.insert(loc=0, column='date', value=dummy_total_cases.date)"
   ]
  },
  {
   "cell_type": "code",
   "execution_count": null,
   "metadata": {},
   "outputs": [],
   "source": [
    "# Chekcing our dataset\n",
    "covid_total_cases_df.head()"
   ]
  },
  {
   "cell_type": "code",
   "execution_count": null,
   "metadata": {},
   "outputs": [],
   "source": [
    "# Removing duplicate date values\n",
    "covid_total_cases_df = covid_total_cases_df.drop_duplicates(subset=['date'], keep='first')"
   ]
  },
  {
   "cell_type": "code",
   "execution_count": null,
   "metadata": {},
   "outputs": [],
   "source": [
    "# Getting all the countries as list\n",
    "location = dummy_total_cases['location'].unique().tolist()"
   ]
  },
  {
   "cell_type": "code",
   "execution_count": null,
   "metadata": {},
   "outputs": [],
   "source": [
    "# adding values from dummy dataset to customisesd dataset for total covid cases\n",
    "# before = \n",
    "for col in location:\n",
    "    loc_df = dummy_total_cases.loc[dummy_total_cases.location==col]\n",
    "    for i in range(0,len(covid_total_cases_df.index)):\n",
    "        for j in range(0,len(loc_df.index)):\n",
    "            if covid_total_cases_df.iloc[i]['date'] == loc_df.iloc[j]['date']:\n",
    "                covid_total_cases_df.iloc[i][col] = loc_df.iloc[j]['total_cases']\n",
    "# after = "
   ]
  },
  {
   "cell_type": "code",
   "execution_count": null,
   "metadata": {},
   "outputs": [],
   "source": [
    "# There are few countries which does not have data for few dates, So considering these as 0 cases that day.\n",
    "covid_updated = covid_total_cases_df.fillna(0)"
   ]
  },
  {
   "cell_type": "code",
   "execution_count": null,
   "metadata": {},
   "outputs": [],
   "source": [
    "# Removind data for all over the world as analysis is done on the country wise\n",
    "covid_updated = covid_updated.drop('World',1)"
   ]
  },
  {
   "cell_type": "code",
   "execution_count": null,
   "metadata": {},
   "outputs": [],
   "source": [
    "# Setting date as index\n",
    "covid_updated = covid_updated.set_index('date')\n",
    "covid_updated.head()"
   ]
  },
  {
   "cell_type": "code",
   "execution_count": null,
   "metadata": {},
   "outputs": [],
   "source": [
    "# Plotting animated bar chart  \n",
    "bcr.bar_chart_race(df = covid_updated, title = 'Covid Total Cases', n_bars = 10, filter_column_colors = True)"
   ]
  },
  {
   "cell_type": "markdown",
   "metadata": {},
   "source": [
    "## Method - 2"
   ]
  },
  {
   "cell_type": "code",
   "execution_count": null,
   "metadata": {},
   "outputs": [],
   "source": [
    "# Creating dummy dataset, just for total cases of all countries\n",
    "dummy_total_deaths = covid_df[['date','location', 'total_deaths']]\n",
    "dummy_total_deaths.head()"
   ]
  },
  {
   "cell_type": "code",
   "execution_count": null,
   "metadata": {},
   "outputs": [],
   "source": [
    "# Creating a customised dataset which can be used to create animated bar chart\n",
    "covid_total_deaths_df = pd.DataFrame(columns = dummy_total_deaths.location )\n",
    "covid_total_deaths_df.head()"
   ]
  },
  {
   "cell_type": "code",
   "execution_count": null,
   "metadata": {},
   "outputs": [],
   "source": [
    "# Removing duplicate columns as country\n",
    "covid_total_deaths_df = covid_total_deaths_df.loc[:,~covid_total_deaths_df.columns.duplicated()]"
   ]
  },
  {
   "cell_type": "code",
   "execution_count": null,
   "metadata": {},
   "outputs": [],
   "source": [
    "# Adding Data as a column which can be our index for bar chart\n",
    "covid_total_deaths_df.insert(loc=0, column='date', value=dummy_total_deaths.date)"
   ]
  },
  {
   "cell_type": "code",
   "execution_count": null,
   "metadata": {},
   "outputs": [],
   "source": [
    "# Removing duplicate date values\n",
    "covid_total_deaths_df = covid_total_deaths_df.drop_duplicates(subset=['date'], keep='first')"
   ]
  },
  {
   "cell_type": "code",
   "execution_count": null,
   "metadata": {},
   "outputs": [],
   "source": [
    "# Getting all the countries as list\n",
    "location = dummy_total_deaths['location'].unique().tolist()"
   ]
  },
  {
   "cell_type": "code",
   "execution_count": null,
   "metadata": {},
   "outputs": [],
   "source": [
    "# location"
   ]
  },
  {
   "cell_type": "code",
   "execution_count": null,
   "metadata": {},
   "outputs": [],
   "source": [
    "covid_total_deaths_df.head()"
   ]
  },
  {
   "cell_type": "code",
   "execution_count": null,
   "metadata": {},
   "outputs": [],
   "source": [
    "# adding values from dummy dataset to customisesd dataset for total covid cases\n",
    "before = time.time()\n",
    "for col in location:\n",
    "    loc_df = dummy_total_deaths.loc[dummy_total_deaths.location==col]\n",
    "    for i in range(0,len(covid_total_deaths_df.index)):\n",
    "        for j in range(0,len(loc_df.index)):\n",
    "            if covid_total_deaths_df.iloc[i]['date'] == loc_df.iloc[j]['date']: \n",
    "                covid_total_deaths_df.iloc[i][col] = loc_df.iloc[j]['total_deaths']\n",
    "after = time.time()\n",
    "print('Total time taken in mins : ', (after - before)/60)"
   ]
  },
  {
   "cell_type": "code",
   "execution_count": null,
   "metadata": {},
   "outputs": [],
   "source": [
    "# There are few countries which does not have data for few dates, So considering these as 0 cases that day.\n",
    "covid_total_deaths = covid_total_deaths_df.fillna(0)"
   ]
  },
  {
   "cell_type": "code",
   "execution_count": null,
   "metadata": {},
   "outputs": [],
   "source": [
    "# Removind data for all over the world as analysis is done on the country wise\n",
    "# covid_total_deaths = covid_total_deaths.drop('World',axis=1)"
   ]
  },
  {
   "cell_type": "code",
   "execution_count": null,
   "metadata": {},
   "outputs": [],
   "source": [
    "# Setting data as index\n",
    "# covid_total_deaths_df = covid_total_deaths_df.set_index('date')\n",
    "covid_total_deaths_df.head()"
   ]
  },
  {
   "cell_type": "code",
   "execution_count": null,
   "metadata": {},
   "outputs": [],
   "source": [
    "import matplotlib.pyplot as plt\n",
    "from matplotlib import style\n",
    "import matplotlib\n",
    "from matplotlib.ticker import MaxNLocator\n",
    "from collections import namedtuple\n",
    "import time\n",
    "style.use('tableau-colorblind10')\n",
    "import matplotlib.colors as mcolors\n",
    "import cv2\n",
    "import os\n",
    "import shutil"
   ]
  },
  {
   "cell_type": "code",
   "execution_count": null,
   "metadata": {},
   "outputs": [],
   "source": [
    "def plot_gen_script(plot_dataframe,scores,cohort_size,colors,plot_names,dir_loc):\n",
    "        fig, ax1 = plt.subplots(figsize=(16, 9))\n",
    "        fig.text(.80, 0.25, 'Date {}'.format(plot_dataframe.date),\n",
    "             fontsize=65, color='gray',\n",
    "             ha='right', va='bottom', alpha=0.5)\n",
    "        pos = np.arange(len(testNames))\n",
    "        rects = ax1.barh(pos, [scores[k].rank for k in testNames],\n",
    "                         align='center',\n",
    "                         height=0.5,\n",
    "                         tick_label=testNames, color=colors)\n",
    "\n",
    "        ax1.set_title(\"Country wise 'Total death' analysis for Covid-19\",fontsize=22,pad=30,color= \"black\", weight=\"bold\")\n",
    "                     \n",
    "                     \n",
    "        ax1.set_xlim([0, cohort_size*1.2])\n",
    "        ax1.xaxis.set_major_locator(MaxNLocator(11))\n",
    "        for tick in ax1.yaxis.get_major_ticks():\n",
    "                tick.label.set_fontsize(17) \n",
    "        for tick in ax1.xaxis.get_major_ticks():\n",
    "                tick.label.set_fontsize(17) \n",
    "        rect_labels = []\n",
    "        for rect in rects:\n",
    "            width = int(rect.get_width())\n",
    "            rankStr = width\n",
    "            if width < cohort_size:\n",
    "                xloc = 5\n",
    "                clr = 'black'\n",
    "                align = 'left'\n",
    "            else:\n",
    "                xloc = 5\n",
    "                clr = 'black'\n",
    "                align = 'left'\n",
    "\n",
    "            yloc = rect.get_y() + rect.get_height() / 2\n",
    "            label = ax1.annotate(rankStr, xy=(width, yloc), xytext=(xloc, 0),\n",
    "                                textcoords=\"offset points\",\n",
    "                                ha=align, va='center',\n",
    "                                color=clr, clip_on=True)\n",
    "            rect_labels.append(label)\n",
    "        plt.savefig(dir_loc+\"/\"+str(i)+\".png\")\n",
    "        plt.close('all')"
   ]
  },
  {
   "cell_type": "code",
   "execution_count": null,
   "metadata": {},
   "outputs": [],
   "source": [
    "covid_total_deaths_df = covid_total_deaths_df.T\n",
    "covid_total_deaths_df"
   ]
  },
  {
   "cell_type": "code",
   "execution_count": null,
   "metadata": {},
   "outputs": [],
   "source": [
    "covid_total_deaths_df.index"
   ]
  },
  {
   "cell_type": "code",
   "execution_count": null,
   "metadata": {},
   "outputs": [],
   "source": [
    "# root_dir= os.getcwd()\n",
    "# image_folder = root_dir+\"/image_folder\"\n",
    "# # GDP_data_loc = root_dir+\"/GDP_data.xlsx\"\n",
    "\n",
    "# # per iteration Frame's you wnat to keep in your video\n",
    "# interpolation_limit = 5\n",
    "\n",
    "# # How many top numbers you want to show\n",
    "# top_show_numbers = 6\n",
    "\n",
    "# ### converting to per 10 million range \n",
    "# divider= 10000000\n",
    "\n",
    "# # base_data=pd.read_excel(GDP_data_loc,index_col=[0])\n",
    "# base_data = covid_total_deaths_df\n",
    "# for col in base_data.columns:\n",
    "#     base_data[col] = pd.to_numeric(base_data[col], errors='coerce')\n",
    "\n",
    "# # GLOBAL CONSTANTS\n",
    "# data_vars= namedtuple('total_deaths', ['date'])\n",
    "# Score = namedtuple('Score', ['rank'])\n",
    "# base_data=base_data.T.bfill().ffill().T"
   ]
  },
  {
   "cell_type": "code",
   "execution_count": null,
   "metadata": {},
   "outputs": [],
   "source": [
    "\n",
    "# for i in base_data.index:\n",
    "#     last_year_gdp = base_data[base_data.columns[-1]][i]\n",
    "#     filtered_base_data = base_data[base_data[base_data.columns[-1]] < last_year_gdp]\n",
    "#     my_base_file = filtered_base_data.dropna().iloc[:top_show_numbers,:]\n",
    "    \n",
    "#     # Plot if there are given no of countries below the gdp of given country\n",
    "#     if my_base_file.shape[0] >= top_show_numbers:\n",
    "#         df1 = my_base_file\n",
    "#         ########################################################################################################################\n",
    "        \n",
    "#         ##### Generating color list for ploting ###\n",
    "#         colour_list = list(mcolors.CSS4_COLORS.keys())\n",
    "#         colour_list =[i for i in colour_list if 'white' not in i ]\n",
    "#         colours=['orange','Green','Red','Yellow'] + colour_list\n",
    "#         ### converting to per 10 million range \n",
    "#         df1=df1 / divider\n",
    "#         ##########################################################################################################################\n",
    "#         #### generating interpolated datasets for more ganurlarity\n",
    "#         md=pd.DataFrame(columns=['Year']+list(df1.T.columns))\n",
    "\n",
    "#         for i in range(df1.T.shape[0]-1):\n",
    "#             for x in range(interpolation_limit):\n",
    "#                 if x==0:\n",
    "#                     append_data = dict(zip(['Year']+list(df1.T.columns),np.append(df1.T.index[i],df1.T.iloc[i,:].values)))\n",
    "\n",
    "#                 else:\n",
    "#                     append_data = dict(zip(['Year']+list(df1.T.columns),np.append(df1.T.index[i],np.full(md.shape[1]-1, np.nan))))\n",
    "#                 md=md.append(append_data,ignore_index=True) \n",
    "\n",
    "#         ### converting to numerical columns as the data still will be in object form \n",
    "#         for col in md.columns:\n",
    "#             if col != \"Year\":\n",
    "#                 md[col] = pd.to_numeric(md[col], errors='coerce')\n",
    "\n",
    "#         # Linear interpolatio for generating data on more gnallure label\n",
    "#         md=md.interpolate(method='linear')\n",
    "#         md.index=md.Year\n",
    "#         md=md.drop(['Year'],1)\n",
    "#         df1=md.T\n",
    "#         ########################################################################################################################\n",
    "#         plot_names = list(md.columns)\n",
    "# #         print(plot_names)\n",
    "#         colour_dict=dict(zip(df1.index,colours[:len(df1.index)]))\n",
    "\n",
    "#         for i in range(df1.shape[1]):\n",
    "# #             print(\"Genearting plot >>>>>>>>>>  {}\".format(i))\n",
    "#             testNames = list((df1.iloc[:,i].sort_values()).index)\n",
    "#             selected_data_vars= data_vars(df1.columns[i])\n",
    "            \n",
    "#             ## giving the index values here\n",
    "#             scores = dict(zip(testNames,\n",
    "#                               (Score(p) for p in df1.iloc[:,i].sort_values().values)))\n",
    "\n",
    "#             ## getting the respective colours of the index here\n",
    "#             colours =[colour_dict[i] for i in list((df1.iloc[:,i].sort_values()).index)]\n",
    "\n",
    "#             ## giving the max value of index for that time here\n",
    "#             cohort_size =  max(df1.iloc[:,i].values)\n",
    "\n",
    "#             plot_gen_script(selected_data_vars,scores,cohort_size,colours,plot_names,image_folder)\n",
    "\n",
    "# #         print(\"image generation completed\")\n",
    "#         ########################################################################################################################\n",
    "# #         print(\"generating video out of images\")\n",
    "#         testNames = list((df1.iloc[:,1].sort_values()).index)\n",
    "#         video_name  = 'Covid_Total_death.avi'\n",
    "\n",
    "\n",
    "#         image = [img for img in os.listdir(image_folder) if img.endswith(\".png\")]\n",
    "\n",
    "#         images=[str(i)+\".png\" for i in range(len(image))]\n",
    "\n",
    "#         frame = cv2.imread(os.path.join(image_folder, images[0]))\n",
    "#         height, width, layers = frame.shape\n",
    "#         video = cv2.VideoWriter(video_name, 0, 10, (width,height))\n",
    "#         for image in images:\n",
    "#             video.write(cv2.imread(os.path.join(image_folder, image)))\n",
    "#         cv2.destroyAllWindows()\n",
    "#         video.release()"
   ]
  },
  {
   "cell_type": "code",
   "execution_count": null,
   "metadata": {},
   "outputs": [],
   "source": [
    "bcr.bar_chart_race(df = covid_total_deaths_df, title = 'Covid Total Death of countries', n_bars = 10)"
   ]
  },
  {
   "cell_type": "markdown",
   "metadata": {},
   "source": [
    "## Method - 3"
   ]
  },
  {
   "cell_type": "code",
   "execution_count": null,
   "metadata": {},
   "outputs": [],
   "source": [
    "# Creating dummy dataset, just for total cases of all countries\n",
    "dummy_new_cases = covid_df[['date','location', 'new_cases']]\n",
    "dummy_new_cases.head()"
   ]
  },
  {
   "cell_type": "code",
   "execution_count": null,
   "metadata": {},
   "outputs": [],
   "source": [
    "# Creating a customised dataset which can be used to create animated bar chart\n",
    "covid_new_cases_df = pd.DataFrame(columns = dummy_new_cases.location )\n",
    "covid_new_cases_df.head()"
   ]
  },
  {
   "cell_type": "code",
   "execution_count": null,
   "metadata": {},
   "outputs": [],
   "source": [
    "# Removing duplicate columns as country\n",
    "covid_new_cases_df = covid_new_cases_df.loc[:,~covid_new_cases_df.columns.duplicated()]"
   ]
  },
  {
   "cell_type": "code",
   "execution_count": null,
   "metadata": {},
   "outputs": [],
   "source": [
    "# Adding Data as a column which can be our index for bar chart\n",
    "covid_new_cases_df.insert(loc=0, column='date', value=dummy_new_cases.date)"
   ]
  },
  {
   "cell_type": "code",
   "execution_count": null,
   "metadata": {},
   "outputs": [],
   "source": [
    "# Removing duplicate date values\n",
    "covid_new_cases_df = covid_new_cases_df.drop_duplicates(subset=['date'], keep='first')"
   ]
  },
  {
   "cell_type": "code",
   "execution_count": null,
   "metadata": {},
   "outputs": [],
   "source": [
    "# Getting all the countries as list\n",
    "location = dummy_new_cases['location'].unique().tolist()"
   ]
  },
  {
   "cell_type": "code",
   "execution_count": null,
   "metadata": {},
   "outputs": [],
   "source": [
    "# adding values from dummy dataset to customisesd dataset for total covid cases\n",
    "before = time.time()\n",
    "for col in location:\n",
    "    loc_df = dummy_new_cases.loc[dummy_new_cases.location==col]\n",
    "    for i in range(0,len(covid_new_cases_df.index)):\n",
    "        for j in range(0,len(loc_df.index)):\n",
    "            if covid_new_cases_df.iloc[i]['date'] == loc_df.iloc[j]['date']: \n",
    "                covid_new_cases_df.iloc[i][col] = loc_df.iloc[j]['new_cases']\n",
    "after = time.time()\n",
    "print('Total time taken in mins : ', (after - before)/60)"
   ]
  },
  {
   "cell_type": "code",
   "execution_count": null,
   "metadata": {},
   "outputs": [],
   "source": [
    "# There are few countries which does not have data for few dates, So considering these as 0 cases that day.\n",
    "covid_new_cases_df = covid_new_cases_df.fillna(0)"
   ]
  },
  {
   "cell_type": "code",
   "execution_count": null,
   "metadata": {},
   "outputs": [],
   "source": [
    "# Removind data for all over the world as analysis is done on the country wise\n",
    "covid_new_cases_df = covid_new_cases_df.drop('World',1)"
   ]
  },
  {
   "cell_type": "code",
   "execution_count": null,
   "metadata": {},
   "outputs": [],
   "source": [
    "# Setting data as index\n",
    "covid_new_cases_df = covid_new_cases_df.set_index('date')\n",
    "covid_new_cases_df.head()"
   ]
  },
  {
   "cell_type": "code",
   "execution_count": null,
   "metadata": {},
   "outputs": [],
   "source": [
    "bcr.bar_chart_race(df = covid_new_cases_df, title = 'Covid New Cases of countries', n_bars = 10)"
   ]
  },
  {
   "cell_type": "markdown",
   "metadata": {},
   "source": [
    "## Method - 4"
   ]
  },
  {
   "cell_type": "code",
   "execution_count": null,
   "metadata": {},
   "outputs": [],
   "source": [
    "# Creating dummy dataset, just for total cases of all countries\n",
    "dummy_new_deaths = covid_df[['date','location', 'new_deaths']]\n",
    "dummy_new_deaths.head()"
   ]
  },
  {
   "cell_type": "code",
   "execution_count": null,
   "metadata": {},
   "outputs": [],
   "source": [
    "# Creating a customised dataset which can be used to create animated bar chart\n",
    "covid_new_deaths_df = pd.DataFrame(columns = dummy_new_deaths.location )\n",
    "covid_new_deaths_df.head()"
   ]
  },
  {
   "cell_type": "code",
   "execution_count": null,
   "metadata": {},
   "outputs": [],
   "source": [
    "# Removing duplicate columns as country\n",
    "covid_new_deaths_df = covid_new_deaths_df.loc[:,~covid_new_deaths_df.columns.duplicated()]"
   ]
  },
  {
   "cell_type": "code",
   "execution_count": null,
   "metadata": {},
   "outputs": [],
   "source": [
    "# Adding Data as a column which can be our index for bar chart\n",
    "covid_new_deaths_df.insert(loc=0, column='date', value=dummy_new_deaths.date)"
   ]
  },
  {
   "cell_type": "code",
   "execution_count": null,
   "metadata": {},
   "outputs": [],
   "source": [
    "# Removing duplicate date values\n",
    "covid_new_deaths_df = covid_new_deaths_df.drop_duplicates(subset=['date'], keep='first')"
   ]
  },
  {
   "cell_type": "code",
   "execution_count": null,
   "metadata": {},
   "outputs": [],
   "source": [
    "# Getting all the countries as list\n",
    "location = dummy_new_deaths['location'].unique().tolist()"
   ]
  },
  {
   "cell_type": "code",
   "execution_count": null,
   "metadata": {},
   "outputs": [],
   "source": [
    "# adding values from dummy dataset to customisesd dataset for total covid cases\n",
    "before = time.time()\n",
    "for col in location:\n",
    "    loc_df = dummy_new_deaths.loc[dummy_new_deaths.location==col]\n",
    "    for i in range(0,len(covid_new_deaths_df.index)):\n",
    "        for j in range(0,len(loc_df.index)):\n",
    "            if covid_new_deaths_df.iloc[i]['date'] == loc_df.iloc[j]['date']: \n",
    "                covid_new_deaths_df.iloc[i][col] = loc_df.iloc[j]['new_deaths']\n",
    "after = time.time()\n",
    "print('Total time taken in mins : ', (after - before)/60)"
   ]
  },
  {
   "cell_type": "code",
   "execution_count": null,
   "metadata": {},
   "outputs": [],
   "source": [
    "# There are few countries which does not have data for few dates, So considering these as 0 cases that day.\n",
    "covid_new_deaths_df = covid_new_deaths_df.fillna(0)"
   ]
  },
  {
   "cell_type": "code",
   "execution_count": null,
   "metadata": {},
   "outputs": [],
   "source": [
    "# Removind data for all over the world as analysis is done on the country wise\n",
    "covid_new_deaths_df = covid_new_deaths_df.drop('World',axis=1)"
   ]
  },
  {
   "cell_type": "code",
   "execution_count": null,
   "metadata": {},
   "outputs": [],
   "source": [
    "# Setting data as index\n",
    "covid_new_deaths_df = covid_new_deaths_df.set_index('date')\n",
    "covid_new_deaths_df.head()"
   ]
  },
  {
   "cell_type": "code",
   "execution_count": null,
   "metadata": {},
   "outputs": [],
   "source": [
    "# Plotting animated bar chart  \n",
    "bcr.bar_chart_race(df = covid_new_deaths_df, title = 'Covid New Death Cases', n_bars = 10, filter_column_colors = True)"
   ]
  },
  {
   "cell_type": "markdown",
   "metadata": {},
   "source": [
    "## 5th "
   ]
  },
  {
   "cell_type": "code",
   "execution_count": null,
   "metadata": {},
   "outputs": [],
   "source": [
    "# Creating dummy dataset, just for total cases of all countries\n",
    "dummy_total_cases_per_million = covid_df[['date','location', 'total_cases_per_million']]\n",
    "dummy_total_cases_per_million.head()"
   ]
  },
  {
   "cell_type": "code",
   "execution_count": null,
   "metadata": {},
   "outputs": [],
   "source": [
    "# Creating a customised dataset which can be used to create animated bar chart\n",
    "covid_total_cases_per_million_df = pd.DataFrame(columns = dummy_total_cases_per_million.location )\n",
    "covid_total_cases_per_million_df.head()"
   ]
  },
  {
   "cell_type": "code",
   "execution_count": null,
   "metadata": {},
   "outputs": [],
   "source": [
    "# Removing duplicate columns as country\n",
    "covid_total_cases_per_million_df = covid_total_cases_per_million_df.loc[:,~covid_total_cases_per_million_df.columns.duplicated()]"
   ]
  },
  {
   "cell_type": "code",
   "execution_count": null,
   "metadata": {},
   "outputs": [],
   "source": [
    "# Adding Data as a column which can be our index for bar chart\n",
    "covid_total_cases_per_million_df.insert(loc=0, column='date', value=dummy_total_cases_per_million.date)"
   ]
  },
  {
   "cell_type": "code",
   "execution_count": null,
   "metadata": {},
   "outputs": [],
   "source": [
    "# Removing duplicate date values\n",
    "covid_total_cases_per_million_df = covid_total_cases_per_million_df.drop_duplicates(subset=['date'], keep='first')"
   ]
  },
  {
   "cell_type": "code",
   "execution_count": null,
   "metadata": {},
   "outputs": [],
   "source": [
    "# Getting all the countries as list\n",
    "location = dummy_total_cases_per_million['location'].unique().tolist()"
   ]
  },
  {
   "cell_type": "code",
   "execution_count": null,
   "metadata": {},
   "outputs": [],
   "source": [
    "# adding values from dummy dataset to customisesd dataset for total covid cases\n",
    "before = time.time()\n",
    "for col in location:\n",
    "    loc_df = dummy_total_cases_per_million.loc[dummy_total_cases_per_million.location==col]\n",
    "    for i in range(0,len(covid_total_cases_per_million_df.index)):\n",
    "        for j in range(0,len(loc_df.index)):\n",
    "            if covid_total_cases_per_million_df.iloc[i]['date'] == loc_df.iloc[j]['date']: \n",
    "                covid_total_cases_per_million_df.iloc[i][col] = loc_df.iloc[j]['total_cases_per_million']\n",
    "after = time.time()\n",
    "print('Total time taken in mins : ', (after - before)/60)"
   ]
  },
  {
   "cell_type": "code",
   "execution_count": null,
   "metadata": {},
   "outputs": [],
   "source": [
    "# There are few countries which does not have data for few dates, So considering these as 0 cases that day.\n",
    "covid_total_cases_per_million_df = covid_total_cases_per_million_df.fillna(0)"
   ]
  },
  {
   "cell_type": "code",
   "execution_count": null,
   "metadata": {},
   "outputs": [],
   "source": [
    "# Removind data for all over the world as analysis is done on the country wise\n",
    "covid_total_cases_per_million_df = covid_total_cases_per_million_df.drop('World',axis=1)"
   ]
  },
  {
   "cell_type": "code",
   "execution_count": null,
   "metadata": {},
   "outputs": [],
   "source": [
    "# Setting data as index\n",
    "covid_total_cases_per_million_df = covid_total_cases_per_million_df.set_index('date')\n",
    "covid_total_cases_per_million_df.head()"
   ]
  },
  {
   "cell_type": "code",
   "execution_count": null,
   "metadata": {},
   "outputs": [],
   "source": [
    "# Plotting animated bar chart  \n",
    "bcr.bar_chart_race(df = covid_total_cases_per_million_df, title = 'Covid Total Cases per million', n_bars = 10, filter_column_colors = True)"
   ]
  },
  {
   "cell_type": "markdown",
   "metadata": {},
   "source": [
    "## 6th "
   ]
  },
  {
   "cell_type": "code",
   "execution_count": null,
   "metadata": {},
   "outputs": [],
   "source": [
    "# Creating dummy dataset, just for total cases of all countries\n",
    "dummy_total_deaths_per_million = covid_df[['date','location', 'total_deaths_per_million']]\n",
    "dummy_total_deaths_per_million.head()"
   ]
  },
  {
   "cell_type": "code",
   "execution_count": null,
   "metadata": {},
   "outputs": [],
   "source": [
    "# Creating a customised dataset which can be used to create animated bar chart\n",
    "covid_total_deaths_per_million_df = pd.DataFrame(columns = dummy_total_deaths_per_million.location )\n",
    "covid_total_deaths_per_million_df.head()"
   ]
  },
  {
   "cell_type": "code",
   "execution_count": null,
   "metadata": {},
   "outputs": [],
   "source": [
    "# Removing duplicate columns as country\n",
    "covid_total_deaths_per_million_df = covid_total_deaths_per_million_df.loc[:,~covid_total_deaths_per_million_df.columns.duplicated()]"
   ]
  },
  {
   "cell_type": "code",
   "execution_count": null,
   "metadata": {},
   "outputs": [],
   "source": [
    "# Adding Data as a column which can be our index for bar chart\n",
    "covid_total_deaths_per_million_df.insert(loc=0, column='date', value=dummy_total_deaths_per_million.date)"
   ]
  },
  {
   "cell_type": "code",
   "execution_count": null,
   "metadata": {},
   "outputs": [],
   "source": [
    "# Removing duplicate date values\n",
    "covid_total_deaths_per_million_df = covid_total_deaths_per_million_df.drop_duplicates(subset=['date'], keep='first')"
   ]
  },
  {
   "cell_type": "code",
   "execution_count": null,
   "metadata": {},
   "outputs": [],
   "source": [
    "# Getting all the countries as list\n",
    "location = dummy_total_deaths_per_million['location'].unique().tolist()"
   ]
  },
  {
   "cell_type": "code",
   "execution_count": null,
   "metadata": {},
   "outputs": [],
   "source": [
    "# adding values from dummy dataset to customisesd dataset for total covid cases\n",
    "before = time.time()\n",
    "for col in location:\n",
    "    loc_df = dummy_total_deaths_per_million.loc[dummy_total_deaths_per_million.location==col]\n",
    "    for i in range(0,len(covid_new_deaths_df.index)):\n",
    "        for j in range(0,len(loc_df.index)):\n",
    "            if covid_total_deaths_per_million_df.iloc[i]['date'] == loc_df.iloc[j]['date']: \n",
    "                covid_total_deaths_per_million_df.iloc[i][col] = loc_df.iloc[j]['total_deaths_per_million']\n",
    "after = time.time()\n",
    "print('Total time taken in mins : ', (after - before)/60)"
   ]
  },
  {
   "cell_type": "code",
   "execution_count": null,
   "metadata": {},
   "outputs": [],
   "source": [
    "# There are few countries which does not have data for few dates, So considering these as 0 cases that day.\n",
    "covid_total_deaths_per_million_df = covid_total_deaths_per_million_df.fillna(0)"
   ]
  },
  {
   "cell_type": "code",
   "execution_count": null,
   "metadata": {},
   "outputs": [],
   "source": [
    "# Removind data for all over the world as analysis is done on the country wise\n",
    "covid_total_deaths_per_million_df = covid_total_deaths_per_million_df.drop('World',axis=1)"
   ]
  },
  {
   "cell_type": "code",
   "execution_count": null,
   "metadata": {},
   "outputs": [],
   "source": [
    "# Setting data as index\n",
    "covid_total_deaths_per_million_df = covid_total_deaths_per_million_df.set_index('date')\n",
    "covid_total_deaths_per_million_df.head()"
   ]
  },
  {
   "cell_type": "code",
   "execution_count": null,
   "metadata": {},
   "outputs": [],
   "source": [
    "# Plotting animated bar chart  \n",
    "bcr.bar_chart_race(df = covid_total_deaths_per_million_df, title = 'Covid Total Death Per Million', n_bars = 10, filter_column_colors = True)"
   ]
  },
  {
   "cell_type": "markdown",
   "metadata": {},
   "source": [
    "## 7th "
   ]
  },
  {
   "cell_type": "code",
   "execution_count": null,
   "metadata": {},
   "outputs": [],
   "source": [
    "# Creating dummy dataset, just for total cases of all countries\n",
    "dummy_new_cases_per_million = covid_df[['date','location', 'new_cases_per_million']]\n",
    "dummy_new_cases_per_million.head()"
   ]
  },
  {
   "cell_type": "code",
   "execution_count": null,
   "metadata": {},
   "outputs": [],
   "source": [
    "# Creating a customised dataset which can be used to create animated bar chart\n",
    "covid_new_cases_per_million_df = pd.DataFrame(columns = dummy_new_cases_per_million.location )\n",
    "covid_new_cases_per_million_df.head()"
   ]
  },
  {
   "cell_type": "code",
   "execution_count": null,
   "metadata": {},
   "outputs": [],
   "source": [
    "# Removing duplicate columns as country\n",
    "covid_new_cases_per_million_df = covid_new_cases_per_million_df.loc[:,~covid_new_cases_per_million_df.columns.duplicated()]"
   ]
  },
  {
   "cell_type": "code",
   "execution_count": null,
   "metadata": {},
   "outputs": [],
   "source": [
    "# Adding Data as a column which can be our index for bar chart\n",
    "covid_new_cases_per_million_df.insert(loc=0, column='date', value=dummy_new_cases_per_million.date)"
   ]
  },
  {
   "cell_type": "code",
   "execution_count": null,
   "metadata": {},
   "outputs": [],
   "source": [
    "# Removing duplicate date values\n",
    "covid_new_cases_per_million_df = covid_new_cases_per_million_df.drop_duplicates(subset=['date'], keep='first')"
   ]
  },
  {
   "cell_type": "code",
   "execution_count": null,
   "metadata": {},
   "outputs": [],
   "source": [
    "# Getting all the countries as list\n",
    "location = dummy_new_cases_per_million['location'].unique().tolist()"
   ]
  },
  {
   "cell_type": "code",
   "execution_count": null,
   "metadata": {},
   "outputs": [],
   "source": [
    "# adding values from dummy dataset to customisesd dataset for total covid cases\n",
    "before = time.time()\n",
    "for col in location:\n",
    "    loc_df = dummy_new_cases_per_million.loc[dummy_new_cases_per_million.location==col]\n",
    "    for i in range(0,len(covid_new_cases_per_million_df.index)):\n",
    "        for j in range(0,len(loc_df.index)):\n",
    "            if covid_new_cases_per_million_df.iloc[i]['date'] == loc_df.iloc[j]['date']: \n",
    "                covid_new_cases_per_million_df.iloc[i][col] = loc_df.iloc[j]['new_cases_per_million']\n",
    "after = time.time()\n",
    "print('Total time taken in mins : ', (after - before)/60)"
   ]
  },
  {
   "cell_type": "code",
   "execution_count": null,
   "metadata": {},
   "outputs": [],
   "source": [
    "# There are few countries which does not have data for few dates, So considering these as 0 cases that day.\n",
    "covid_new_cases_per_million_df = covid_new_cases_per_million_df.fillna(0)"
   ]
  },
  {
   "cell_type": "code",
   "execution_count": null,
   "metadata": {},
   "outputs": [],
   "source": [
    "# Removind data for all over the world as analysis is done on the country wise\n",
    "covid_new_cases_per_million_df = covid_new_cases_per_million_df.drop('World',axis=1)"
   ]
  },
  {
   "cell_type": "code",
   "execution_count": null,
   "metadata": {},
   "outputs": [],
   "source": [
    "# Setting data as index\n",
    "covid_new_cases_per_million_df = covid_new_cases_per_million_df.set_index('date')\n",
    "covid_new_cases_per_million_df.head()"
   ]
  },
  {
   "cell_type": "code",
   "execution_count": null,
   "metadata": {},
   "outputs": [],
   "source": [
    "# Plotting animated bar chart  \n",
    "bcr.bar_chart_race(df = covid_new_cases_per_million_df, title = 'Covid New Cases Per Million', n_bars = 10, filter_column_colors = True)"
   ]
  },
  {
   "cell_type": "markdown",
   "metadata": {},
   "source": [
    "## 8th"
   ]
  },
  {
   "cell_type": "code",
   "execution_count": null,
   "metadata": {},
   "outputs": [],
   "source": [
    "# Creating dummy dataset, just for total cases of all countries\n",
    "dummy_new_deaths_per_million = covid_df[['date','location', 'new_deaths_per_million']]\n",
    "dummy_new_deaths_per_million.head()"
   ]
  },
  {
   "cell_type": "code",
   "execution_count": null,
   "metadata": {},
   "outputs": [],
   "source": [
    "# Creating a customised dataset which can be used to create animated bar chart\n",
    "covid_new_deaths_per_million_df = pd.DataFrame(columns = dummy_new_deaths_per_million.location )\n",
    "covid_new_deaths_per_million_df.head()"
   ]
  },
  {
   "cell_type": "code",
   "execution_count": null,
   "metadata": {},
   "outputs": [],
   "source": [
    "# Removing duplicate columns as country\n",
    "covid_new_deaths_per_million_df = covid_new_deaths_per_million_df.loc[:,~covid_new_deaths_per_million_df.columns.duplicated()]"
   ]
  },
  {
   "cell_type": "code",
   "execution_count": null,
   "metadata": {},
   "outputs": [],
   "source": [
    "# Adding Data as a column which can be our index for bar chart\n",
    "covid_new_deaths_per_million_df.insert(loc=0, column='date', value=dummy_new_deaths_per_million.date)"
   ]
  },
  {
   "cell_type": "code",
   "execution_count": null,
   "metadata": {},
   "outputs": [],
   "source": [
    "# Removing duplicate date values\n",
    "covid_new_deaths_per_million_df = covid_new_deaths_per_million_df.drop_duplicates(subset=['date'], keep='first')"
   ]
  },
  {
   "cell_type": "code",
   "execution_count": null,
   "metadata": {},
   "outputs": [],
   "source": [
    "# Getting all the countries as list\n",
    "location = dummy_new_deaths_per_million['location'].unique().tolist()"
   ]
  },
  {
   "cell_type": "code",
   "execution_count": null,
   "metadata": {},
   "outputs": [],
   "source": [
    "# adding values from dummy dataset to customisesd dataset for total covid cases\n",
    "before = time.time()\n",
    "for col in location:\n",
    "    loc_df = dummy_new_deaths_per_million.loc[dummy_new_deaths_per_million.location==col]\n",
    "    for i in range(0,len(covid_new_cases_per_million_df.index)):\n",
    "        for j in range(0,len(loc_df.index)):\n",
    "            if covid_new_deaths_per_million_df.iloc[i]['date'] == loc_df.iloc[j]['date']: \n",
    "                covid_new_deaths_per_million_df.iloc[i][col] = loc_df.iloc[j]['new_deaths_per_million']\n",
    "after = time.time()\n",
    "print('Total time taken in mins : ', (after - before)/60)"
   ]
  },
  {
   "cell_type": "code",
   "execution_count": null,
   "metadata": {},
   "outputs": [],
   "source": [
    "# There are few countries which does not have data for few dates, So considering these as 0 cases that day.\n",
    "covid_new_deaths_per_million_df = covid_new_deaths_per_million_df.fillna(0)"
   ]
  },
  {
   "cell_type": "code",
   "execution_count": null,
   "metadata": {},
   "outputs": [],
   "source": [
    "# Removind data for all over the world as analysis is done on the country wise\n",
    "covid_new_deaths_per_million_df = covid_new_deaths_per_million_df.drop('World',axis=1)"
   ]
  },
  {
   "cell_type": "code",
   "execution_count": null,
   "metadata": {},
   "outputs": [],
   "source": [
    "# Setting data as index\n",
    "covid_new_deaths_per_million_df = covid_new_deaths_per_million_df.set_index('date')\n",
    "covid_new_deaths_per_million_df.head()"
   ]
  },
  {
   "cell_type": "code",
   "execution_count": null,
   "metadata": {},
   "outputs": [],
   "source": [
    "# Plotting animated bar chart  \n",
    "bcr.bar_chart_race(df = covid_new_deaths_per_million_df, title = 'Covid New Death Per Million', n_bars = 10, filter_column_colors = True)"
   ]
  },
  {
   "cell_type": "markdown",
   "metadata": {},
   "source": [
    "## Chekcing "
   ]
  },
  {
   "cell_type": "code",
   "execution_count": null,
   "metadata": {},
   "outputs": [],
   "source": [
    "# covid_df.head()"
   ]
  },
  {
   "cell_type": "code",
   "execution_count": null,
   "metadata": {},
   "outputs": [],
   "source": [
    "# covid_df['gdp_per_capita'].value_counts()"
   ]
  },
  {
   "cell_type": "code",
   "execution_count": null,
   "metadata": {},
   "outputs": [],
   "source": [
    "# Dropping duplicate countries as some of the values does not change on the basis of date\n",
    "# Removing duplicate country values\n",
    "covid_data_country = covid_df.drop_duplicates(subset=['location'], keep='last')\n",
    "covid_data_country"
   ]
  },
  {
   "cell_type": "code",
   "execution_count": null,
   "metadata": {},
   "outputs": [],
   "source": [
    "# There are few countries which does not have data for few dates, So considering these as 0 cases that day.\n",
    "covid_data_country = covid_data_country.fillna(0)"
   ]
  },
  {
   "cell_type": "code",
   "execution_count": null,
   "metadata": {},
   "outputs": [],
   "source": [
    "covid_data_country.columns"
   ]
  },
  {
   "cell_type": "code",
   "execution_count": null,
   "metadata": {},
   "outputs": [],
   "source": [
    "covid_gdp_df = covid_data_country[['location','total_cases','total_deaths','gdp_per_capita']]\n",
    "covid_gdp_df"
   ]
  },
  {
   "cell_type": "code",
   "execution_count": null,
   "metadata": {},
   "outputs": [],
   "source": [
    "# Removing data for all over the world as analysis is done on the country wise and it can be outlier for our data\n",
    "i = covid_gdp_df[covid_gdp_df['location'] == 'World'].index\n",
    "j = covid_gdp_df[covid_gdp_df['location'] == 'International'].index\n",
    "covid_gdp_df = covid_gdp_df.drop(i)\n",
    "covid_gdp_df = covid_gdp_df.drop(j)"
   ]
  },
  {
   "cell_type": "code",
   "execution_count": null,
   "metadata": {},
   "outputs": [],
   "source": [
    "plt.rcParams['figure.figsize'] = [30, 20]\n",
    "fig = plt.figure()\n",
    "plt.title('GDP vs Total Cases')\n",
    "plt.scatter(x = 'total_cases', y = 'gdp_per_capita', data =  covid_gdp_df)\n",
    "plt.legend()\n",
    "plt.show()"
   ]
  },
  {
   "cell_type": "code",
   "execution_count": null,
   "metadata": {},
   "outputs": [],
   "source": [
    "## From above graph we can clrealy see the gdp per captia does not depend upon total cases count"
   ]
  },
  {
   "cell_type": "code",
   "execution_count": null,
   "metadata": {},
   "outputs": [],
   "source": [
    "plt.rcParams['figure.figsize'] = [30, 20]\n",
    "fig = plt.figure()\n",
    "plt.title('GDP vs Total Deaths')\n",
    "plt.scatter(x = 'total_deaths', y = 'gdp_per_capita', data =  covid_gdp_df)\n",
    "plt.legend()\n",
    "plt.show()"
   ]
  },
  {
   "cell_type": "code",
   "execution_count": null,
   "metadata": {},
   "outputs": [],
   "source": [
    "## From above graph we can clrealy see the gdp per captia does not depend upon total death count either"
   ]
  },
  {
   "cell_type": "code",
   "execution_count": null,
   "metadata": {},
   "outputs": [],
   "source": [
    "## Analysis by hospital_beds_per_thousand"
   ]
  },
  {
   "cell_type": "code",
   "execution_count": null,
   "metadata": {},
   "outputs": [],
   "source": [
    "covid_data_country.columns"
   ]
  },
  {
   "cell_type": "code",
   "execution_count": null,
   "metadata": {},
   "outputs": [],
   "source": [
    "plt.rcParams['figure.figsize'] = [30, 20]\n",
    "fig = plt.figure()\n",
    "plt.title('GDP vs Total Deaths')\n",
    "plt.scatter(x = 'total_cases', y = 'hospital_beds_per_thousand', data =  covid_data_country)\n",
    "plt.legend()\n",
    "plt.show()"
   ]
  },
  {
   "cell_type": "code",
   "execution_count": null,
   "metadata": {},
   "outputs": [],
   "source": [
    "plt.rcParams['figure.figsize'] = [30, 20]\n",
    "fig = plt.figure()\n",
    "plt.title('GDP vs Total Deaths')\n",
    "plt.scatter(x = 'total_deaths', y = 'hospital_beds_per_thousand', data =  covid_data_country)\n",
    "plt.legend()\n",
    "plt.show()"
   ]
  },
  {
   "cell_type": "code",
   "execution_count": null,
   "metadata": {},
   "outputs": [],
   "source": [
    "plt.rcParams['figure.figsize'] = [30, 20]\n",
    "fig = plt.figure()\n",
    "plt.title('GDP vs Total Deaths')\n",
    "plt.scatter(x = 'total_cases', y = 'human_development_index', data =  covid_data_country)\n",
    "plt.legend()\n",
    "plt.show()"
   ]
  },
  {
   "cell_type": "code",
   "execution_count": null,
   "metadata": {},
   "outputs": [],
   "source": [
    "plt.rcParams['figure.figsize'] = [30, 20]\n",
    "fig = plt.figure()\n",
    "plt.title('GDP vs Total Deaths')\n",
    "plt.scatter(x = 'total_deaths', y = 'human_development_index', data =  covid_data_country)\n",
    "plt.legend()\n",
    "plt.show()"
   ]
  },
  {
   "cell_type": "markdown",
   "metadata": {},
   "source": [
    "#### It seems other variable is not relavent for total cases or death increases"
   ]
  },
  {
   "cell_type": "code",
   "execution_count": null,
   "metadata": {},
   "outputs": [],
   "source": []
  }
 ],
 "metadata": {
  "kernelspec": {
   "display_name": "Python 3",
   "language": "python",
   "name": "python3"
  },
  "language_info": {
   "codemirror_mode": {
    "name": "ipython",
    "version": 3
   },
   "file_extension": ".py",
   "mimetype": "text/x-python",
   "name": "python",
   "nbconvert_exporter": "python",
   "pygments_lexer": "ipython3",
   "version": "3.7.4"
  }
 },
 "nbformat": 4,
 "nbformat_minor": 4
}
